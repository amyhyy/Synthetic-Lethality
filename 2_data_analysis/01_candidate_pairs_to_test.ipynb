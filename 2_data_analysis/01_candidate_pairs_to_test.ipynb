{
 "cells": [
  {
   "cell_type": "markdown",
   "id": "53156c03",
   "metadata": {},
   "source": [
    "## Identify candidate pairs to test\n",
    "\n",
    "In this step, we would first identify the candidate paralog pairs to test. For the candidate pairs, we hvae A1 and A2 two genes. A2 is the gene with poorly represented HD and A1 is A2's paralog gene(s).\n",
    "\n",
    "**Criteria for the candidate pairs:**\n",
    "- A2 is homozygously deleted in 1 or 2 cell lines (we already have the poorly represented genes) **(filter1)**\n",
    "- A1 has its gene dependency score in CRISPR gene effect dataset **(filter 2)**\n",
    "- The minimum sequence identity between A1 and A2 is at least 20% (and they are already listed in De Kegel's gene list) **(filter 3)**\n",
    "- Closest paralog pairs **(filter 3)**\n",
    "- Both genes in paralog pairs are broadly expressed **(filter 4)**\n",
    "    - RNA tissue distribution = 'Detected in all' OR\n",
    "    - RNA tissue distribution = 'Detected in many' AND RNA tissue specificity = Low tissue specificity', 'Not detected'\n",
    "- Paralog genes in a gene pair should not be in the same chromosomal location **(filter 5)**\n",
    "\n",
    "\n",
    "**Input**\n",
    "- Paralog gene list (~36.6k paralog pairs from Ensembl): DeKegel_TableS8.csv (https://doi.org/10.1101/2020.12.16.423022). In paralog gene list, Barbara had already annotated the minimum sequence identity and paralog gene family size.\n",
    "- Protein atlas tissue distribution + specificity: proteinatlas.tsv (https://v19.proteinatlas.org/about/download).\n",
    "- HGNC information: hgnc_gene_with_protein_product.txt (https://www.genenames.org/download/statistics-and-files/).\n",
    "- Sanger CNV data (annotated cell lines with BROAD ID and filtered based on paralog gene list): CNV_sanger_paralog.csv\n",
    "- BROAD CRISPR gene effect data (annotated cell lines with BROAD ID and filtered based on paralog gene list): CRISPR_broad_paralog.csv\n",
    "- 1942 genes with poorly represented HD: poorly_represented_HD_gene.csv\n",
    "\n",
    "\n",
    "**Output**\n",
    "- Candidate pairs list (341 sorted gene pairs and 374 pairs to test): pairs_to_test.csv"
   ]
  },
  {
   "cell_type": "code",
   "execution_count": 25,
   "id": "c6c3e916",
   "metadata": {},
   "outputs": [],
   "source": [
    "## Import modules\n",
    "import pandas as pd"
   ]
  },
  {
   "cell_type": "code",
   "execution_count": 26,
   "id": "de70c83b",
   "metadata": {
    "scrolled": true
   },
   "outputs": [
    {
     "data": {
      "text/html": [
       "<div>\n",
       "<style scoped>\n",
       "    .dataframe tbody tr th:only-of-type {\n",
       "        vertical-align: middle;\n",
       "    }\n",
       "\n",
       "    .dataframe tbody tr th {\n",
       "        vertical-align: top;\n",
       "    }\n",
       "\n",
       "    .dataframe thead th {\n",
       "        text-align: right;\n",
       "    }\n",
       "</style>\n",
       "<table border=\"1\" class=\"dataframe\">\n",
       "  <thead>\n",
       "    <tr style=\"text-align: right;\">\n",
       "      <th></th>\n",
       "      <th>sorted_gene_pair</th>\n",
       "      <th>A1</th>\n",
       "      <th>A2</th>\n",
       "      <th>A1_entrez</th>\n",
       "      <th>A2_entrez</th>\n",
       "      <th>A1_ensembl</th>\n",
       "      <th>A2_ensembl</th>\n",
       "      <th>min_sequence_identity</th>\n",
       "      <th>closest</th>\n",
       "      <th>family_size</th>\n",
       "    </tr>\n",
       "  </thead>\n",
       "  <tbody>\n",
       "    <tr>\n",
       "      <th>0</th>\n",
       "      <td>SMARCA2_SMARCA4</td>\n",
       "      <td>SMARCA2</td>\n",
       "      <td>SMARCA4</td>\n",
       "      <td>6595</td>\n",
       "      <td>6597</td>\n",
       "      <td>ENSG00000080503</td>\n",
       "      <td>ENSG00000127616</td>\n",
       "      <td>0.746812</td>\n",
       "      <td>True</td>\n",
       "      <td>2</td>\n",
       "    </tr>\n",
       "    <tr>\n",
       "      <th>1</th>\n",
       "      <td>EXOC6_EXOC6B</td>\n",
       "      <td>EXOC6</td>\n",
       "      <td>EXOC6B</td>\n",
       "      <td>54536</td>\n",
       "      <td>23233</td>\n",
       "      <td>ENSG00000138190</td>\n",
       "      <td>ENSG00000144036</td>\n",
       "      <td>0.698159</td>\n",
       "      <td>True</td>\n",
       "      <td>2</td>\n",
       "    </tr>\n",
       "  </tbody>\n",
       "</table>\n",
       "</div>"
      ],
      "text/plain": [
       "  sorted_gene_pair       A1       A2  A1_entrez  A2_entrez       A1_ensembl  \\\n",
       "0  SMARCA2_SMARCA4  SMARCA2  SMARCA4       6595       6597  ENSG00000080503   \n",
       "1     EXOC6_EXOC6B    EXOC6   EXOC6B      54536      23233  ENSG00000138190   \n",
       "\n",
       "        A2_ensembl  min_sequence_identity  closest  family_size  \n",
       "0  ENSG00000127616               0.746812     True            2  \n",
       "1  ENSG00000144036               0.698159     True            2  "
      ]
     },
     "execution_count": 26,
     "metadata": {},
     "output_type": "execute_result"
    }
   ],
   "source": [
    "## Read the paralog information data\n",
    "paralog_pairs = pd.read_csv('/Users/amy/Desktop/SyntheticLethalityProject/sources/DeKegel_TableS8.csv', index_col = False, usecols = [2,3,4,5,6,7,8,14,15,17])\n",
    "paralog_pairs[:2]"
   ]
  },
  {
   "cell_type": "markdown",
   "id": "f51fc1bf",
   "metadata": {},
   "source": [
    "**Filter 1**: A2 is homozygously deleted in 1 or 2 cell lines"
   ]
  },
  {
   "cell_type": "code",
   "execution_count": 27,
   "id": "50dfce53",
   "metadata": {},
   "outputs": [
    {
     "data": {
      "text/html": [
       "<div>\n",
       "<style scoped>\n",
       "    .dataframe tbody tr th:only-of-type {\n",
       "        vertical-align: middle;\n",
       "    }\n",
       "\n",
       "    .dataframe tbody tr th {\n",
       "        vertical-align: top;\n",
       "    }\n",
       "\n",
       "    .dataframe thead th {\n",
       "        text-align: right;\n",
       "    }\n",
       "</style>\n",
       "<table border=\"1\" class=\"dataframe\">\n",
       "  <thead>\n",
       "    <tr style=\"text-align: right;\">\n",
       "      <th></th>\n",
       "      <th>entrez_id</th>\n",
       "      <th>hgnc_symbol</th>\n",
       "      <th>cell_line_frequency</th>\n",
       "      <th>cell_line_frequency_category</th>\n",
       "    </tr>\n",
       "  </thead>\n",
       "  <tbody>\n",
       "    <tr>\n",
       "      <th>0</th>\n",
       "      <td>9</td>\n",
       "      <td>NAT1</td>\n",
       "      <td>1</td>\n",
       "      <td>1</td>\n",
       "    </tr>\n",
       "    <tr>\n",
       "      <th>1</th>\n",
       "      <td>10</td>\n",
       "      <td>NAT2</td>\n",
       "      <td>1</td>\n",
       "      <td>1</td>\n",
       "    </tr>\n",
       "  </tbody>\n",
       "</table>\n",
       "</div>"
      ],
      "text/plain": [
       "   entrez_id hgnc_symbol  cell_line_frequency  cell_line_frequency_category\n",
       "0          9        NAT1                    1                             1\n",
       "1         10        NAT2                    1                             1"
      ]
     },
     "execution_count": 27,
     "metadata": {},
     "output_type": "execute_result"
    }
   ],
   "source": [
    "# Read the pre-saved poorly represented HD list\n",
    "poor_repr_ls = pd.read_csv('/Users/amy/Desktop/SyntheticLethalityProject/1_data_processing/05_poorly_represented_HD_in_CCLs/poorly_represented_HD_gene.csv', index_col = False)\n",
    "poor_repr_ls[:2]"
   ]
  },
  {
   "cell_type": "code",
   "execution_count": 28,
   "id": "8e63159a",
   "metadata": {},
   "outputs": [
    {
     "name": "stdout",
     "output_type": "stream",
     "text": [
      "Number of candidate pairs (A2 lost in 1 or 2 cell lines): 10015\n"
     ]
    }
   ],
   "source": [
    "# Identify the paralog pairs with at least one gene lost (i.e., homozygous deletion).\n",
    "poor_paralog_pairs_filterA1 = paralog_pairs[paralog_pairs.A1_entrez.isin(poor_repr_ls['entrez_id'])]\n",
    "poor_paralog_pairs_filterA2 = paralog_pairs[paralog_pairs.A2_entrez.isin(poor_repr_ls['entrez_id'])]\n",
    "poor_paralog_pairs_filter = pd.concat([poor_paralog_pairs_filterA1, poor_paralog_pairs_filterA2])\n",
    "poor_paralog_pairs_filter = poor_paralog_pairs_filter.drop_duplicates(subset=['sorted_gene_pair'])\n",
    "\n",
    "\n",
    "# Change the column order of the dataframe so that we have two combinations for one sorted_gene_pair\n",
    "# Example, sorted gene pair: CNOT7(A1)_CNOT8(A2)\n",
    "# There can be two combinations: CNOT7(A1) and CNOT8(A2); CNOT7(A2) and CNOT8(A1)\n",
    "pre_candidate_pairs = poor_paralog_pairs_filter[['sorted_gene_pair', 'A2', 'A1', 'A2_entrez', 'A1_entrez', 'A2_ensembl', 'A1_ensembl']]\n",
    "pre_candidate_pairs = pre_candidate_pairs.rename(columns={'A2':'A1', 'A1':'A2', \n",
    "                                                          'A2_entrez':'A1_entrez', \n",
    "                                                          'A1_entrez':'A2_entrez', \n",
    "                                                          'A2_ensembl': 'A1_ensembl', \n",
    "                                                          'A1_ensembl':'A2_ensembl'})\n",
    "\n",
    "# Combine two dataset. Hence, the candidate pairs contain all the possibilities of the combinations for a specific sorted_gene_pair\n",
    "pre_candidate_pairs_full = pd.concat([poor_paralog_pairs_filter, pre_candidate_pairs])\n",
    "\n",
    "# Merge the pre_candidate_pairs_full data with the rare_homodel data\n",
    "poor_repr_ls = poor_repr_ls.rename(columns={'entrez_id':'A2_entrez'})\n",
    "pairs_to_test_filter1 = pd.merge(poor_repr_ls, pre_candidate_pairs_full, on = ['A2_entrez'], how = 'left')\n",
    "pairs_to_test_filter1 = pairs_to_test_filter1[['sorted_gene_pair', \n",
    "                                               'A1', 'A2', \n",
    "                                               'A1_entrez', 'A2_entrez', \n",
    "                                               'A1_ensembl','A2_ensembl',\n",
    "                                               'hgnc_symbol']]\n",
    "pairs_to_test_filter1 = pairs_to_test_filter1.rename(columns={'hgnc_symbol':'A2_hgnc_symbol'})\n",
    "\n",
    "\n",
    "print(\"Number of candidate pairs (A2 lost in 1 or 2 cell lines):\", pairs_to_test_filter1.sorted_gene_pair.unique().shape[0])"
   ]
  },
  {
   "cell_type": "markdown",
   "id": "ae3fbb90",
   "metadata": {},
   "source": [
    "**Filter 2**: A1 has available gene dependency scores"
   ]
  },
  {
   "cell_type": "code",
   "execution_count": 29,
   "id": "293cfeaa",
   "metadata": {},
   "outputs": [
    {
     "name": "stdout",
     "output_type": "stream",
     "text": [
      "Number of candidate pairs (A2 lost in 1 or 2 cell lines; available A1 dependency score): 9277\n"
     ]
    }
   ],
   "source": [
    "crispr_broad = pd.read_csv('/Users/amy/Desktop/SyntheticLethalityProject/1_data_processing/04_paralog_genes/CRISPR_broad_paralog.csv', index_col=None)\n",
    "CNV_sanger = pd.read_csv('/Users/amy/Desktop/SyntheticLethalityProject/1_data_processing/04_paralog_genes/CNV_sanger_paralog.csv', index_col = None)\n",
    "pairs_to_test_filter2 = pairs_to_test_filter1[(pairs_to_test_filter1['A1_entrez'].astype(str).isin(crispr_broad.columns))]\n",
    "\n",
    "print(\"Number of candidate pairs (A2 lost in 1 or 2 cell lines; available A1 dependency score):\", pairs_to_test_filter2.sorted_gene_pair.unique().shape[0])"
   ]
  },
  {
   "cell_type": "markdown",
   "id": "2e9ce7e0",
   "metadata": {},
   "source": [
    "**Filter 3**: Paralog gene pairs with min. sequence identity should be higher than 20%, and closest "
   ]
  },
  {
   "cell_type": "code",
   "execution_count": 30,
   "id": "860c7d62",
   "metadata": {},
   "outputs": [
    {
     "name": "stdout",
     "output_type": "stream",
     "text": [
      "Number of candidate pairs (A2 lost in 1 or 2 cell lines; available A1 dependency score; min_seq_id >= 0.2; closest): 1029\n"
     ]
    }
   ],
   "source": [
    "# paralog_pairs_filter3 = paralog_pairs[(paralog_pairs.family_size <= 20) & (paralog_pairs.min_sequence_identity >= 0.2) & (paralog_pairs.closest == True)]\n",
    "paralog_pairs_filter3 = paralog_pairs[(paralog_pairs.min_sequence_identity >= 0.2) & (paralog_pairs.closest == True)]\n",
    "pairs_to_test_filter3 = pairs_to_test_filter2[pairs_to_test_filter2['sorted_gene_pair'].astype(str).isin(paralog_pairs_filter3['sorted_gene_pair'])]\n",
    "print('Number of candidate pairs (A2 lost in 1 or 2 cell lines; available A1 dependency score; min_seq_id >= 0.2; closest):', pairs_to_test_filter3.sorted_gene_pair.unique().shape[0])"
   ]
  },
  {
   "cell_type": "markdown",
   "id": "ccb7cd87",
   "metadata": {},
   "source": [
    "**Filter 4**: Both genes are broadly expressed across tissues instead of expressing in a tissue specific manner"
   ]
  },
  {
   "cell_type": "code",
   "execution_count": 31,
   "id": "969522a8",
   "metadata": {},
   "outputs": [
    {
     "name": "stdout",
     "output_type": "stream",
     "text": [
      "Number of candidate pairs (A2 lost in 1 or 2 cell lines; available A1 dependency score; min_seq_id >= 0.2; closest; both genes are broadly expressed): 370\n"
     ]
    }
   ],
   "source": [
    "## Load protein expression data\n",
    "protein_atlas = pd.read_csv('/Users/amy/Desktop/SyntheticLethalityProject/sources/proteinatlas.tsv', sep='\\t', index_col = False)\n",
    "protein_atlas = protein_atlas[['Ensembl', 'Gene', 'RNA tissue specificity', 'RNA tissue distribution']]\n",
    "\n",
    "# Genes that are broadly expressed across tissues \n",
    "protein_atlas_filter = protein_atlas[protein_atlas['RNA tissue distribution'].isin(['Detected in all']) |\n",
    "                                     (protein_atlas['RNA tissue distribution'].isin(['Detected in many']) &\n",
    "                                      protein_atlas['RNA tissue specificity'].isin(['Low tissue specificity','Not detected']))]\n",
    "\n",
    "# Filter the paralog genes that are broadly expressed across tissues \n",
    "# The final data are the candidate paralog pairs list \n",
    "pairs_to_test_filter4 = pairs_to_test_filter3[pairs_to_test_filter3.A1_ensembl.isin(protein_atlas_filter.Ensembl) & pairs_to_test_filter3.A2_ensembl.isin(protein_atlas_filter.Ensembl)]\n",
    "\n",
    "print('Number of candidate pairs (A2 lost in 1 or 2 cell lines; available A1 dependency score; min_seq_id >= 0.2; closest; both genes are broadly expressed):', \n",
    "      pairs_to_test_filter4.sorted_gene_pair.unique().shape[0])"
   ]
  },
  {
   "cell_type": "markdown",
   "id": "adf33619",
   "metadata": {},
   "source": [
    "**Filter 5**: Both genes in a paralog pairs should not be in the same chromosomal location (because they might be co-deleted"
   ]
  },
  {
   "cell_type": "code",
   "execution_count": 32,
   "id": "01657917",
   "metadata": {},
   "outputs": [],
   "source": [
    "## First, find the gene pairs with paralog genes locate within the same chromosomal region \n",
    "# Read HGNC data \n",
    "hgnc = pd.read_table('/Users/amy/Desktop/SyntheticLethalityProject/sources/hgnc_gene_with_protein_product.txt', index_col = None, low_memory=False)\n",
    "# Subset the data\n",
    "hgnc = hgnc[['symbol', 'location']]\n",
    "\n",
    "# Subset the pairs_to_test_filter4 data (only get the useful column)\n",
    "# First, add two column. Add a column for candidate pairs to test (for both entrez ID and gene symbol)\n",
    "pd.DataFrame(pairs_to_test_filter4).loc[:,'pairs_to_test'] = pairs_to_test_filter4['A1_entrez'].astype(str).str.cat(pairs_to_test_filter4['A2_entrez'].astype(str), sep='-')\n",
    "pd.DataFrame(pairs_to_test_filter4).loc[:,'pairs_to_test_symbol'] = pairs_to_test_filter4['A1'].astype(str).str.cat(pairs_to_test_filter4['A2'].astype(str), sep='_')\n",
    "\n",
    "pairs_A1 = pairs_to_test_filter4[['A1', 'pairs_to_test_symbol']]\n",
    "pairs_A2 = pairs_to_test_filter4[['A2', 'pairs_to_test_symbol']]\n",
    "\n",
    "# Map the chromosomal location to the A1 and A2 gene \n",
    "hgnc_map = dict(zip(hgnc['symbol'].astype(str), hgnc['location'].astype(str)))\n",
    "pd.DataFrame(pairs_A1).loc[:, 'chr_loc_A1'] = pairs_A1['A1'].map(hgnc_map)\n",
    "pd.DataFrame(pairs_A2).loc[:, 'chr_loc_A2'] = pairs_A2['A2'].map(hgnc_map)\n",
    "\n",
    "# Merge the two separated dataframe together \n",
    "pairs_chr_loc = pd.DataFrame(pd.merge(pairs_A1, pairs_A2, on = ['pairs_to_test_symbol'], how = 'left'))\n",
    "\n",
    "# check if chr_loc_A1 and chr_loc_A2 has the same location for A1 and A2\n",
    "pairs_chr_loc['chr_loc_same'] = pairs_chr_loc['chr_loc_A1'] == pairs_chr_loc['chr_loc_A2']\n",
    "# List of pairs that locate within the same chromosomal location \n",
    "pairs_same_chr_loc = pairs_chr_loc[pairs_chr_loc['chr_loc_same'] == True].pairs_to_test_symbol\n",
    "\n",
    "## Filter\n",
    "pairs_to_test_filter5 = pairs_to_test_filter4[~(pairs_to_test_filter4['pairs_to_test_symbol'].isin(list(pairs_same_chr_loc)))]"
   ]
  },
  {
   "cell_type": "code",
   "execution_count": 33,
   "id": "4b654b8c",
   "metadata": {},
   "outputs": [
    {
     "name": "stdout",
     "output_type": "stream",
     "text": [
      "Number of candidate pairs (A2 lost in 1 or 2 cell lines; available A1 dependency score; min_seq_id >= 0.2; closest; both genes are broadly expressed; different chromosomal locations): 341\n",
      "Number of pairs to test (after all 5 filtering mentioned above): 374\n"
     ]
    }
   ],
   "source": [
    "## How many pairs to test?\n",
    "print('Number of candidate pairs (A2 lost in 1 or 2 cell lines; available A1 dependency score; min_seq_id >= 0.2; closest; both genes are broadly expressed; different chromosomal locations):', \n",
    "      pairs_to_test_filter5.sorted_gene_pair.unique().shape[0])\n",
    "\n",
    "print('Number of pairs to test (after all 5 filtering mentioned above):', pairs_to_test_filter5.pairs_to_test_symbol.shape[0])"
   ]
  },
  {
   "cell_type": "code",
   "execution_count": 34,
   "id": "656fd792",
   "metadata": {},
   "outputs": [],
   "source": [
    "## Save the data \n",
    "pairs_to_test_filter5.to_csv('/Users/amy/Desktop/SyntheticLethalityProject/2_data_analysis/01_candidate_pairs_to_test/pairs_to_test.csv', index = False)"
   ]
  },
  {
   "cell_type": "code",
   "execution_count": null,
   "id": "eb56f3f7",
   "metadata": {},
   "outputs": [],
   "source": []
  }
 ],
 "metadata": {
  "kernelspec": {
   "display_name": "Python 3 (ipykernel)",
   "language": "python",
   "name": "python3"
  },
  "language_info": {
   "codemirror_mode": {
    "name": "ipython",
    "version": 3
   },
   "file_extension": ".py",
   "mimetype": "text/x-python",
   "name": "python",
   "nbconvert_exporter": "python",
   "pygments_lexer": "ipython3",
   "version": "3.9.12"
  }
 },
 "nbformat": 4,
 "nbformat_minor": 5
}
