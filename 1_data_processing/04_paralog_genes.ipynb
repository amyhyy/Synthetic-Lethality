{
 "cells": [
  {
   "cell_type": "markdown",
   "id": "0e52d820",
   "metadata": {},
   "source": [
    "## Identify synthetic lethal interactions between paralog genes\n",
    "\n",
    "In our project, we primarily focus on the identification of vulnerabilities involving synthetic lethal interactions between paralog genes.\n",
    "\n",
    "Hence, we would further filter the dataset and only keep the data of paralog genes.\n",
    "\n",
    "**Input**\n",
    "- Sanger CNV data with mapped Entrez ID and BROAD ID (703 CCLs): cnv_sanger_tidy.csv\n",
    "- BROAD CRISPR gene effect data with mapped Entrez ID and BROAD ID (703 CCLs): crispr_broad_tidy.csv\n",
    "\n",
    "\n",
    "**Output**\n",
    "- Sanger CNV data with paralog gene solely: cnv_sanger_paralog.csv\n",
    "- BROAD CRISPR gene effect data with paralog gene solely: crispr_broad_paralog.csv"
   ]
  },
  {
   "cell_type": "code",
   "execution_count": 1,
   "id": "a96bd512",
   "metadata": {},
   "outputs": [],
   "source": [
    "## Import modules\n",
    "import numpy as np\n",
    "import pandas as pd"
   ]
  },
  {
   "cell_type": "code",
   "execution_count": 2,
   "id": "1e721680",
   "metadata": {},
   "outputs": [
    {
     "data": {
      "text/html": [
       "<div>\n",
       "<style scoped>\n",
       "    .dataframe tbody tr th:only-of-type {\n",
       "        vertical-align: middle;\n",
       "    }\n",
       "\n",
       "    .dataframe tbody tr th {\n",
       "        vertical-align: top;\n",
       "    }\n",
       "\n",
       "    .dataframe thead th {\n",
       "        text-align: right;\n",
       "    }\n",
       "</style>\n",
       "<table border=\"1\" class=\"dataframe\">\n",
       "  <thead>\n",
       "    <tr style=\"text-align: right;\">\n",
       "      <th></th>\n",
       "      <th>prediction_rank</th>\n",
       "      <th>prediction_percentile</th>\n",
       "      <th>sorted_gene_pair</th>\n",
       "      <th>A1</th>\n",
       "      <th>A2</th>\n",
       "      <th>A1_entrez</th>\n",
       "      <th>A2_entrez</th>\n",
       "      <th>A1_ensembl</th>\n",
       "      <th>A2_ensembl</th>\n",
       "      <th>prediction_score</th>\n",
       "      <th>...</th>\n",
       "      <th>either_in_complex</th>\n",
       "      <th>mean_complex_essentiality</th>\n",
       "      <th>colocalisation</th>\n",
       "      <th>interact</th>\n",
       "      <th>n_total_ppi</th>\n",
       "      <th>fet_ppi_overlap</th>\n",
       "      <th>shared_ppi_mean_essentiality</th>\n",
       "      <th>gtex_spearman_corr</th>\n",
       "      <th>gtex_min_mean_expr</th>\n",
       "      <th>gtex_max_mean_expr</th>\n",
       "    </tr>\n",
       "  </thead>\n",
       "  <tbody>\n",
       "    <tr>\n",
       "      <th>0</th>\n",
       "      <td>1</td>\n",
       "      <td>0.1</td>\n",
       "      <td>SMARCA2_SMARCA4</td>\n",
       "      <td>SMARCA2</td>\n",
       "      <td>SMARCA4</td>\n",
       "      <td>6595</td>\n",
       "      <td>6597</td>\n",
       "      <td>ENSG00000080503</td>\n",
       "      <td>ENSG00000127616</td>\n",
       "      <td>0.430886</td>\n",
       "      <td>...</td>\n",
       "      <td>True</td>\n",
       "      <td>0.387262</td>\n",
       "      <td>0.333333</td>\n",
       "      <td>True</td>\n",
       "      <td>302</td>\n",
       "      <td>114.614142</td>\n",
       "      <td>0.225382</td>\n",
       "      <td>0.627875</td>\n",
       "      <td>18.609973</td>\n",
       "      <td>34.302868</td>\n",
       "    </tr>\n",
       "    <tr>\n",
       "      <th>1</th>\n",
       "      <td>2</td>\n",
       "      <td>0.1</td>\n",
       "      <td>EXOC6_EXOC6B</td>\n",
       "      <td>EXOC6</td>\n",
       "      <td>EXOC6B</td>\n",
       "      <td>54536</td>\n",
       "      <td>23233</td>\n",
       "      <td>ENSG00000138190</td>\n",
       "      <td>ENSG00000144036</td>\n",
       "      <td>0.410447</td>\n",
       "      <td>...</td>\n",
       "      <td>True</td>\n",
       "      <td>0.486857</td>\n",
       "      <td>0.250000</td>\n",
       "      <td>True</td>\n",
       "      <td>53</td>\n",
       "      <td>29.782706</td>\n",
       "      <td>0.285886</td>\n",
       "      <td>0.069456</td>\n",
       "      <td>6.390812</td>\n",
       "      <td>11.168367</td>\n",
       "    </tr>\n",
       "  </tbody>\n",
       "</table>\n",
       "<p>2 rows × 36 columns</p>\n",
       "</div>"
      ],
      "text/plain": [
       "   prediction_rank  prediction_percentile sorted_gene_pair       A1       A2  \\\n",
       "0                1                    0.1  SMARCA2_SMARCA4  SMARCA2  SMARCA4   \n",
       "1                2                    0.1     EXOC6_EXOC6B    EXOC6   EXOC6B   \n",
       "\n",
       "   A1_entrez  A2_entrez       A1_ensembl       A2_ensembl  prediction_score  \\\n",
       "0       6595       6597  ENSG00000080503  ENSG00000127616          0.430886   \n",
       "1      54536      23233  ENSG00000138190  ENSG00000144036          0.410447   \n",
       "\n",
       "   ...  either_in_complex  mean_complex_essentiality  colocalisation interact  \\\n",
       "0  ...               True                   0.387262        0.333333     True   \n",
       "1  ...               True                   0.486857        0.250000     True   \n",
       "\n",
       "   n_total_ppi  fet_ppi_overlap  shared_ppi_mean_essentiality  \\\n",
       "0          302       114.614142                      0.225382   \n",
       "1           53        29.782706                      0.285886   \n",
       "\n",
       "   gtex_spearman_corr  gtex_min_mean_expr  gtex_max_mean_expr  \n",
       "0            0.627875           18.609973           34.302868  \n",
       "1            0.069456            6.390812           11.168367  \n",
       "\n",
       "[2 rows x 36 columns]"
      ]
     },
     "execution_count": 2,
     "metadata": {},
     "output_type": "execute_result"
    }
   ],
   "source": [
    "## Load the dataset \n",
    "## Import the paralog gene table from Barbara's data\n",
    "paralog = pd.read_csv('/Users/amy/Desktop/SyntheticLethalityProject/sources/DeKegel_TableS8.csv', index_col = None)\n",
    "cnv_sanger = pd.read_csv('/Users/amy/Desktop/SyntheticLethalityProject/1_data_processing/03_intersection_of_CCLs/cnv_sanger_tidy.csv', index_col = None, low_memory=False)\n",
    "crispr_broad = pd.read_csv('/Users/amy/Desktop/SyntheticLethalityProject/1_data_processing/03_intersection_of_CCLs/crispr_broad_tidy.csv', index_col = None)\n",
    "paralog[:2]"
   ]
  },
  {
   "cell_type": "code",
   "execution_count": 3,
   "id": "d609260d",
   "metadata": {
    "scrolled": true
   },
   "outputs": [
    {
     "name": "stdout",
     "output_type": "stream",
     "text": [
      "Number of unique paralog genes: 13320\n"
     ]
    }
   ],
   "source": [
    "## Combine A1_entrez and A2_entrez column (unique content) to obtain the paralog genes list \n",
    "A1_entrez = set(paralog['A1_entrez'])\n",
    "A2_entrez = set(paralog['A2_entrez'])\n",
    "paralog_union = A1_entrez.union(A2_entrez) # 13320 unique paralog genes\n",
    "## Convert the int in list into string\n",
    "paralog_union = [str(x) for x in paralog_union]\n",
    "print(\"Number of unique paralog genes:\", len(list(paralog_union)))"
   ]
  },
  {
   "cell_type": "code",
   "execution_count": 4,
   "id": "e49d4960",
   "metadata": {},
   "outputs": [],
   "source": [
    "## Filter CNV and CRISPR data based on the paralog gene list \n",
    "cnv_sanger_paralog = cnv_sanger.filter(items = paralog_union)\n",
    "crispr_broad_paralog = crispr_broad.filter(items = paralog_union)\n",
    "\n",
    "## Add the cell line model ID (i.e., SangerModelID and ModelID) to the filtered dataset \n",
    "crispr_model = crispr_broad[['BROAD_ID', 'SangerModelID']]\n",
    "cnv_model = cnv_sanger[['BROAD_ID', 'SangerModelID']]\n",
    "\n",
    "crispr_broad_paralog = pd.concat([crispr_model, crispr_broad_paralog], axis = 1)\n",
    "cnv_sanger_paralog = pd.concat([cnv_model, cnv_sanger_paralog], axis = 1)"
   ]
  },
  {
   "cell_type": "code",
   "execution_count": 5,
   "id": "93d167f0",
   "metadata": {},
   "outputs": [],
   "source": [
    "## Save the data filtered with paralog genes\n",
    "cnv_sanger_paralog.to_csv('/Users/amy/Desktop/SyntheticLethalityProject/1_data_processing/04_paralog_genes/cnv_sanger_paralog.csv', index=False)\n",
    "crispr_broad_paralog.to_csv('/Users/amy/Desktop/SyntheticLethalityProject/1_data_processing/04_paralog_genes/crispr_broad_paralog.csv', index=False)"
   ]
  }
 ],
 "metadata": {
  "kernelspec": {
   "display_name": "Python 3 (ipykernel)",
   "language": "python",
   "name": "python3"
  },
  "language_info": {
   "codemirror_mode": {
    "name": "ipython",
    "version": 3
   },
   "file_extension": ".py",
   "mimetype": "text/x-python",
   "name": "python",
   "nbconvert_exporter": "python",
   "pygments_lexer": "ipython3",
   "version": "3.9.12"
  }
 },
 "nbformat": 4,
 "nbformat_minor": 5
}
