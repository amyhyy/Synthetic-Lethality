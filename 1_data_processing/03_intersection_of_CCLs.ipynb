{
 "cells": [
  {
   "cell_type": "markdown",
   "id": "94d99b11",
   "metadata": {},
   "source": [
    "## Intersection of CCLs in both CNV and CRISPR gene effect data\n",
    "\n",
    "In this step, we would filter two huge dataset (CNV and CRISPR gene effect data) and only keep the intersected CCLs that are tested in both dataset.\n",
    "\n",
    "**Input**\n",
    "- Sanger CNV data with mapped BROAD ID: **cnv_sanger_entrezID_broadID.csv**\n",
    "- CRISPR gene effect data with mapped BROAD ID: **crispr_broad_entrezID_broadID.csv**\n",
    "\n",
    "**Output**\n",
    "- Sanger CNV data with mapped Entrez ID and BROAD ID (703 CCLs): cnv_sanger_tidy.csv\n",
    "- BROAD CRISPR gene effect data with mapped Entrez ID and BROAD ID (703 CCLs): crispr_broad_tidy.csv"
   ]
  },
  {
   "cell_type": "code",
   "execution_count": 1,
   "id": "d5995865",
   "metadata": {},
   "outputs": [],
   "source": [
    "## Import modules\n",
    "import numpy as np\n",
    "import pandas as pd\n",
    "import seaborn as sns\n",
    "import matplotlib.pyplot as plt"
   ]
  },
  {
   "cell_type": "code",
   "execution_count": 2,
   "id": "d5fe5381",
   "metadata": {},
   "outputs": [],
   "source": [
    "## Load required data\n",
    "\n",
    "## Sanger CNV\n",
    "cnv_sanger = pd.read_csv('/Users/amy/Desktop/SyntheticLethalityProject/1_data_processing/02_BROAD_ID_mapping/cnv_sanger_entrezID_broadID.csv', index_col=None, low_memory=False)\n",
    "## BROAD CRISPR gene effect\n",
    "crispr_broad = pd.read_csv('/Users/amy/Desktop/SyntheticLethalityProject/1_data_processing/02_BROAD_ID_mapping/crispr_broad_entrezID_broadID.csv', index_col=None)"
   ]
  },
  {
   "cell_type": "markdown",
   "id": "c9cb5883",
   "metadata": {},
   "source": [
    "Number of shared CCLs in both dataset."
   ]
  },
  {
   "cell_type": "code",
   "execution_count": 3,
   "id": "81f5f901",
   "metadata": {},
   "outputs": [
    {
     "name": "stdout",
     "output_type": "stream",
     "text": [
      "Number of cell lines models in CRISPR screening data: 992\n",
      "Number of cell lines models in Sanger CNV data: 1240\n",
      "Number of overlapping cell line models: 703\n"
     ]
    }
   ],
   "source": [
    "cnv_model = set(cnv_sanger['BROAD_ID'])\n",
    "crispr_model = set(crispr_broad['BROAD_ID'])\n",
    "\n",
    "model_shared = cnv_model.intersection(crispr_model)\n",
    "print('Number of cell lines models in CRISPR screening data:', len(crispr_model))\n",
    "print('Number of cell lines models in Sanger CNV data:', len(cnv_model))\n",
    "print(\"Number of overlapping cell line models:\", len(model_shared))"
   ]
  },
  {
   "cell_type": "markdown",
   "id": "2c24cede",
   "metadata": {},
   "source": [
    "Keep the shared CCLs (filter those that are not tested in both dataset)."
   ]
  },
  {
   "cell_type": "code",
   "execution_count": 4,
   "id": "20084453",
   "metadata": {},
   "outputs": [
    {
     "name": "stdout",
     "output_type": "stream",
     "text": [
      "Number of CCLs in CNV data after filtering: 768\n",
      "Number of CCLs in CRISPR data after filtering: 703\n"
     ]
    }
   ],
   "source": [
    "cnv_sanger_f = cnv_sanger[cnv_sanger['BROAD_ID'].isin(model_shared)]\n",
    "crispr_broad_f = crispr_broad[crispr_broad['BROAD_ID'].isin(model_shared)]\n",
    "\n",
    "print(\"Number of CCLs in CNV data after filtering:\", cnv_sanger_f.shape[0]) \n",
    "# Duplicate samples are in CNV data set\n",
    "print(\"Number of CCLs in CRISPR data after filtering:\", crispr_broad_f.shape[0])"
   ]
  },
  {
   "cell_type": "markdown",
   "id": "4a17deee",
   "metadata": {},
   "source": [
    "Thus, the above result shows that there are duplicated samples in CNV data.\n",
    "\n",
    "We would look into the duplicated samples:"
   ]
  },
  {
   "cell_type": "code",
   "execution_count": 5,
   "id": "8748703a",
   "metadata": {},
   "outputs": [
    {
     "data": {
      "image/png": "[encoded data removed]",
      "text/plain": [
       "<Figure size 216x216 with 1 Axes>"
      ]
     },
     "metadata": {},
     "output_type": "display_data"
    }
   ],
   "source": [
    "## First, look into the distribution of cell line models from Sanger and Broad source\n",
    "\n",
    "s_model = cnv_sanger_f[cnv_sanger_f['source'] == 'Sanger'].BROAD_ID\n",
    "b_model = cnv_sanger_f[cnv_sanger_f['source'] == 'Broad'].BROAD_ID\n",
    "\n",
    "## Venn diagram to show the distribution of duplicates \n",
    "from matplotlib_venn import venn2\n",
    "f, ax = plt.subplots(figsize=(3,3))\n",
    "# create a Venn diagram for the two sets\n",
    "v = venn2([set(cnv_sanger_f[cnv_sanger_f.source == 'Sanger']['BROAD_ID']), \n",
    "           set(cnv_sanger_f[cnv_sanger_f.source == 'Broad']['BROAD_ID'])], ['Sanger','BROAD'], ax=ax, set_colors=['skyblue','red'])\n",
    "\n",
    "for text in v.set_labels: text.set_fontsize(10) # change label size\n",
    "for text in v.subset_labels: text.set_fontsize(10) # change number size"
   ]
  },
  {
   "cell_type": "markdown",
   "id": "21f88271",
   "metadata": {},
   "source": [
    "For the **65 duplicates**, we will only keep cell lines from Sanger, leaving 123 BROAD remain. "
   ]
  },
  {
   "cell_type": "code",
   "execution_count": 6,
   "id": "bec8a673",
   "metadata": {
    "scrolled": true
   },
   "outputs": [
    {
     "name": "stdout",
     "output_type": "stream",
     "text": [
      "Number of cell lines in CNV data: 703\n"
     ]
    },
    {
     "data": {
      "text/html": [
       "<div>\n",
       "<style scoped>\n",
       "    .dataframe tbody tr th:only-of-type {\n",
       "        vertical-align: middle;\n",
       "    }\n",
       "\n",
       "    .dataframe tbody tr th {\n",
       "        vertical-align: top;\n",
       "    }\n",
       "\n",
       "    .dataframe thead th {\n",
       "        text-align: right;\n",
       "    }\n",
       "</style>\n",
       "<table border=\"1\" class=\"dataframe\">\n",
       "  <thead>\n",
       "    <tr style=\"text-align: right;\">\n",
       "      <th></th>\n",
       "      <th>SangerModelID</th>\n",
       "      <th>BROAD_ID</th>\n",
       "      <th>source</th>\n",
       "      <th>symbol</th>\n",
       "      <th>1</th>\n",
       "      <th>29974</th>\n",
       "      <th>2</th>\n",
       "      <th>144568</th>\n",
       "      <th>127550</th>\n",
       "      <th>53947</th>\n",
       "      <th>...</th>\n",
       "      <th>9183</th>\n",
       "      <th>55055</th>\n",
       "      <th>11130</th>\n",
       "      <th>7789</th>\n",
       "      <th>158586</th>\n",
       "      <th>79364</th>\n",
       "      <th>79699</th>\n",
       "      <th>7791</th>\n",
       "      <th>23140</th>\n",
       "      <th>26009</th>\n",
       "    </tr>\n",
       "  </thead>\n",
       "  <tbody>\n",
       "    <tr>\n",
       "      <th>0</th>\n",
       "      <td>SIDM00980</td>\n",
       "      <td>ACH-000948</td>\n",
       "      <td>Sanger</td>\n",
       "      <td>NaN</td>\n",
       "      <td>Neutral</td>\n",
       "      <td>Neutral</td>\n",
       "      <td>Neutral</td>\n",
       "      <td>Neutral</td>\n",
       "      <td>Neutral</td>\n",
       "      <td>Neutral</td>\n",
       "      <td>...</td>\n",
       "      <td>Neutral</td>\n",
       "      <td>Neutral</td>\n",
       "      <td>Neutral</td>\n",
       "      <td>Neutral</td>\n",
       "      <td>Neutral</td>\n",
       "      <td>Neutral</td>\n",
       "      <td>Neutral</td>\n",
       "      <td>Neutral</td>\n",
       "      <td>Neutral</td>\n",
       "      <td>Neutral</td>\n",
       "    </tr>\n",
       "    <tr>\n",
       "      <th>1</th>\n",
       "      <td>SIDM01529</td>\n",
       "      <td>ACH-000011</td>\n",
       "      <td>Broad</td>\n",
       "      <td>NaN</td>\n",
       "      <td>Neutral</td>\n",
       "      <td>Neutral</td>\n",
       "      <td>Loss</td>\n",
       "      <td>Neutral</td>\n",
       "      <td>Neutral</td>\n",
       "      <td>Neutral</td>\n",
       "      <td>...</td>\n",
       "      <td>Neutral</td>\n",
       "      <td>Neutral</td>\n",
       "      <td>Neutral</td>\n",
       "      <td>Gain</td>\n",
       "      <td>Gain</td>\n",
       "      <td>Neutral</td>\n",
       "      <td>Neutral</td>\n",
       "      <td>Neutral</td>\n",
       "      <td>Neutral</td>\n",
       "      <td>Neutral</td>\n",
       "    </tr>\n",
       "  </tbody>\n",
       "</table>\n",
       "<p>2 rows × 18352 columns</p>\n",
       "</div>"
      ],
      "text/plain": [
       "  SangerModelID    BROAD_ID  source  symbol        1    29974        2  \\\n",
       "0     SIDM00980  ACH-000948  Sanger     NaN  Neutral  Neutral  Neutral   \n",
       "1     SIDM01529  ACH-000011   Broad     NaN  Neutral  Neutral     Loss   \n",
       "\n",
       "    144568   127550    53947  ...     9183    55055    11130     7789  \\\n",
       "0  Neutral  Neutral  Neutral  ...  Neutral  Neutral  Neutral  Neutral   \n",
       "1  Neutral  Neutral  Neutral  ...  Neutral  Neutral  Neutral     Gain   \n",
       "\n",
       "    158586    79364    79699     7791    23140    26009  \n",
       "0  Neutral  Neutral  Neutral  Neutral  Neutral  Neutral  \n",
       "1     Gain  Neutral  Neutral  Neutral  Neutral  Neutral  \n",
       "\n",
       "[2 rows x 18352 columns]"
      ]
     },
     "execution_count": 6,
     "metadata": {},
     "output_type": "execute_result"
    }
   ],
   "source": [
    "## Remove all the duplicates in CNV data\n",
    "cnv_sanger_rm_dup = cnv_sanger_f.drop_duplicates(subset = ['SangerModelID'], keep = False)\n",
    "\n",
    "## Only keep Sanger cell lines that are duplicates \n",
    "cnv_dup = cnv_sanger_f[cnv_sanger_f.duplicated(subset = ['SangerModelID'], keep = False)]\n",
    "cnv_dup = cnv_dup[cnv_dup['source'] == \"Sanger\"]\n",
    "\n",
    "## Combine two dataset\n",
    "cnv_sanger_f_unique = pd.concat([cnv_sanger_rm_dup, cnv_dup], ignore_index = True)\n",
    "\n",
    "print(\"Number of cell lines in CNV data:\", cnv_sanger_f_unique.shape[0])\n",
    "cnv_sanger_f_unique[:2]\n"
   ]
  },
  {
   "cell_type": "code",
   "execution_count": 7,
   "id": "48cba193",
   "metadata": {},
   "outputs": [],
   "source": [
    "## Save the tidied up data\n",
    "## Sanger CNV\n",
    "cnv_sanger_f_unique.to_csv('/Users/amy/Desktop/SyntheticLethalityProject/1_data_processing/03_intersection_of_CCLs/cnv_sanger_tidy.csv', index=False)\n",
    "\n",
    "## BROAD CRISPR gene effect \n",
    "crispr_broad_f.to_csv('/Users/amy/Desktop/SyntheticLethalityProject/1_data_processing/03_intersection_of_CCLs/crispr_broad_tidy.csv', index=False)"
   ]
  }
 ],
 "metadata": {
  "kernelspec": {
   "display_name": "Python 3 (ipykernel)",
   "language": "python",
   "name": "python3"
  },
  "language_info": {
   "codemirror_mode": {
    "name": "ipython",
    "version": 3
   },
   "file_extension": ".py",
   "mimetype": "text/x-python",
   "name": "python",
   "nbconvert_exporter": "python",
   "pygments_lexer": "ipython3",
   "version": "3.9.12"
  }
 },
 "nbformat": 4,
 "nbformat_minor": 5
}
